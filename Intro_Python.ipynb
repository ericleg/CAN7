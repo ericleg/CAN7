{
 "cells": [
  {
   "attachments": {},
   "cell_type": "markdown",
   "id": "informative-evanescence",
   "metadata": {},
   "source": [
    "# Intro Python 🐍 (with major differences to Matlab)\n",
    "## Load Packages\n",
    "One important difference to Matlab is, that you always have to import the packages or parts of packages before you can use them:"
   ]
  },
  {
   "cell_type": "code",
   "execution_count": 3,
   "id": "lucky-parallel",
   "metadata": {},
   "outputs": [],
   "source": [
    "import numpy as np # import the whole package and define abbreviation\n",
    "from scipy import stats # imports just the stats module from the scipy package"
   ]
  },
  {
   "attachments": {},
   "cell_type": "markdown",
   "id": "disabled-henry",
   "metadata": {},
   "source": [
    "## Working with arrays\n",
    "<u>Summary:</u>\n",
    "- indexing starts with 0\n",
    "- slicing is exclusive\n",
    "- slicing is done with squared brackets\n",
    "\n",
    "Another important difference between Python and Matlab is the indexing of arrays. In Matlab indexes start with 1 and in Python they start with <b>0</b>! Also you have to use squared brackets instead of curved brackets for array slicing."
   ]
  },
  {
   "cell_type": "code",
   "execution_count": 4,
   "id": "lined-packet",
   "metadata": {},
   "outputs": [
    {
     "data": {
      "text/plain": [
       "2"
      ]
     },
     "execution_count": 4,
     "metadata": {},
     "output_type": "execute_result"
    }
   ],
   "source": [
    "myArr = np.array([1,2,3,4,5]) # create array (with numpy)\n",
    "myArr[0] # = myArr(1) in Matlab\n",
    "myArr[1] # = myArr(2) in Matlab"
   ]
  },
  {
   "attachments": {},
   "cell_type": "markdown",
   "id": "assisted-diabetes",
   "metadata": {},
   "source": [
    "Also <b>slicing</b> in Python is <b>exclusive</b> (last index is not part of the output) and not inclusive like in Matlab. So if we want to know the values of the first three elements of our array, we have to write:"
   ]
  },
  {
   "cell_type": "code",
   "execution_count": 5,
   "id": "copyrighted-group",
   "metadata": {},
   "outputs": [
    {
     "name": "stdout",
     "output_type": "stream",
     "text": [
      "[1 2 3]\n"
     ]
    }
   ],
   "source": [
    "print(myArr[0:3]) # = myArr(1:3) in Matlab"
   ]
  },
  {
   "attachments": {},
   "cell_type": "markdown",
   "id": "understanding-serum",
   "metadata": {},
   "source": [
    "## Indentations\n",
    "One (maybe strange) thing you have to do in Python are indentations to mark which parts belong to if clauses, loops, and functions. So it looks like this:"
   ]
  },
  {
   "cell_type": "code",
   "execution_count": 8,
   "id": "fewer-announcement",
   "metadata": {},
   "outputs": [
    {
     "name": "stdout",
     "output_type": "stream",
     "text": [
      ":D\n"
     ]
    }
   ],
   "source": [
    "# if clause\n",
    "if myArr[1]==4:\n",
    "    print(':)')\n",
    "elif myArr[1]==3:\n",
    "    print(':(')\n",
    "else:\n",
    "    print(':D')"
   ]
  },
  {
   "cell_type": "code",
   "execution_count": 21,
   "id": "square-worry",
   "metadata": {},
   "outputs": [
    {
     "name": "stdout",
     "output_type": "stream",
     "text": [
      "0\n",
      "1\n",
      "2\n",
      "3\n"
     ]
    }
   ],
   "source": [
    "# for loop\n",
    "for i in range(4): # also here range starts with 0 and 4 is not included\n",
    "    print(i)"
   ]
  },
  {
   "cell_type": "code",
   "execution_count": 9,
   "id": "first-welsh",
   "metadata": {},
   "outputs": [
    {
     "data": {
      "text/plain": [
       "256"
      ]
     },
     "execution_count": 9,
     "metadata": {},
     "output_type": "execute_result"
    }
   ],
   "source": [
    "# functions\n",
    "def square(a,b):\n",
    "    return(a**b)\n",
    "\n",
    "square(2,8)"
   ]
  },
  {
   "attachments": {},
   "cell_type": "markdown",
   "id": "quiet-patrol",
   "metadata": {},
   "source": [
    "## Miscellaneous\n",
    "- you don't need a semicolon at the end of a line to suppress output\n",
    "\n",
    "\n",
    "- every variable is an object and inherits methods, which you can use like this: <code>variable.method()</code>"
   ]
  },
  {
   "cell_type": "code",
   "execution_count": 10,
   "id": "native-atlas",
   "metadata": {},
   "outputs": [
    {
     "data": {
      "text/plain": [
       "15"
      ]
     },
     "execution_count": 10,
     "metadata": {},
     "output_type": "execute_result"
    }
   ],
   "source": [
    "myArr.sum()"
   ]
  },
  {
   "cell_type": "code",
   "execution_count": 11,
   "id": "2ae25fe4",
   "metadata": {},
   "outputs": [
    {
     "data": {
      "text/plain": [
       "15"
      ]
     },
     "execution_count": 11,
     "metadata": {},
     "output_type": "execute_result"
    }
   ],
   "source": [
    "np.sum(myArr)"
   ]
  },
  {
   "attachments": {},
   "cell_type": "markdown",
   "id": "e2a7979f",
   "metadata": {},
   "source": [
    "### <font color=#E6CDAE><i>Further reading</i></font>\n",
    "More about the differences between Python and Matlab: https://numpy.org/doc/stable/user/numpy-for-matlab-users.html\n",
    "\n",
    "You can also import <i>.mat</i> files with various packages: https://stackoverflow.com/questions/874461/read-mat-files-in-python \n"
   ]
  },
  {
   "attachments": {},
   "cell_type": "markdown",
   "id": "847d4561",
   "metadata": {},
   "source": [
    "## Shortcuts Jupyter Notebook\n",
    "- running a cell: <kbd>Strg</kbd> + <kbd>Enter</kbd>\n",
    "\n",
    "- running a cell and move to next one: <kbd>⇧</kbd> + <kbd>Enter</kbd>\n",
    "\n",
    "- move a cell: <kbd>Alt</kbd> + <kbd>↑</kbd> / <kbd>↓</kbd>"
   ]
  },
  {
   "attachments": {},
   "cell_type": "markdown",
   "id": "0eddca3a",
   "metadata": {},
   "source": [
    "## <font color=#D28140><u>Exercise:</u></font> 👩🏻‍💻\n",
    "Write a function that checks, if a number given by the user can be divided by 7.\n",
    "\n",
    "<i>Hints:</i>\n",
    "- modulo: <code>%</code>"
   ]
  },
  {
   "cell_type": "code",
   "execution_count": null,
   "id": "24270588",
   "metadata": {},
   "outputs": [],
   "source": []
  },
  {
   "attachments": {},
   "cell_type": "markdown",
   "id": "803a94d3",
   "metadata": {},
   "source": [
    "### <font color=#E6CDAE><i>Further reading</i></font>\n",
    "- you can find a tutorial with examples here: https://docs.python.org/3/tutorial/index.html\n",
    "- very well explained video tutorials about basics and more advanced stuff from Corey Schafer here: https://www.youtube.com/@coreyms"
   ]
  },
  {
   "attachments": {},
   "cell_type": "markdown",
   "id": "70e46e8d",
   "metadata": {},
   "source": [
    "## Packages used in the seminar\n",
    "- NumPy $\\to$ fundamental package for array manipulation and basic math operations (numpy.org)\n",
    "\n",
    "- scipy $\\to$ fundamental math package, we will use the provided probability distribution (scipy.org)\n",
    "\n",
    "- pandas $\\to$ data manipulation (pandas.pydata.org)\n",
    "\n",
    "- matplotlib $\\to$ basic plotting package (matplotlib.org)\n",
    "\n",
    "- seaborn $\\to$ plotting package that works well with pandas (seaborn.pydata.org)\n",
    "\n",
    "- PyMC $\\to$ Bayesian inference (pymc.io)\n",
    "\n",
    "- ArviZ $\\to$ explore results from PyMC (python.arviz.org)"
   ]
  },
  {
   "attachments": {},
   "cell_type": "markdown",
   "id": "e61cd8d1",
   "metadata": {},
   "source": [
    "## NumPy\n",
    "NumPy is a fundamental package that provides array manipulation and basic math operations. You can find a basic tutorial here: https://numpy.org/doc/stable/user/absolute_beginners.html.\n",
    "\n",
    "Here are some NumPy functions we will use in the seminar:"
   ]
  },
  {
   "cell_type": "code",
   "execution_count": 21,
   "id": "0f3f07cd",
   "metadata": {},
   "outputs": [
    {
     "name": "stdout",
     "output_type": "stream",
     "text": [
      "2-by-3 array with ones: [[1. 1. 1.]\n",
      " [1. 1. 1.]]\n",
      "array shape: (2, 3)\n",
      "number of elements: 6\n",
      "unique values: [1.]\n",
      "transposed array: [[1. 1.]\n",
      " [1. 1.]\n",
      " [1. 1.]]\n"
     ]
    }
   ],
   "source": [
    "# create 2D array filled with 1's: np.ones(n)\n",
    "myArr = np.ones((2,3))\n",
    "print(f'2-by-3 array with ones: {myArr}')\n",
    "\n",
    "# get size of array: arr.shape\n",
    "print(f'array shape: {myArr.shape}')\n",
    "\n",
    "# get the number of elements: arr.size\n",
    "print(f'number of elements: {myArr.size}')\n",
    "\n",
    "# get unique values: np.unique()\n",
    "print(f'unique values: {np.unique(myArr)}')\n",
    "\n",
    "# transpose array: arr.T or arr.transpose()\n",
    "print(f'transposed array: {myArr.transpose()}')"
   ]
  },
  {
   "attachments": {},
   "cell_type": "markdown",
   "id": "c1defaea",
   "metadata": {},
   "source": [
    "### <font color=#D28140><u>Exercise:</u></font> 👩🏻‍💻\n",
    "- create an array with the numbers from 1 to 10 with <code>np.arange()</code>\n",
    "- reshape this array to 5x2 with <code>arr.reshape()</code>"
   ]
  },
  {
   "cell_type": "code",
   "execution_count": null,
   "id": "bdedca43",
   "metadata": {},
   "outputs": [],
   "source": []
  },
  {
   "attachments": {},
   "cell_type": "markdown",
   "id": "2df8b2b2",
   "metadata": {},
   "source": [
    "## matplotlib\n",
    "matplotlib is the basic plotting package. You can import the package with this command:"
   ]
  },
  {
   "cell_type": "code",
   "execution_count": 23,
   "id": "8b689449",
   "metadata": {},
   "outputs": [],
   "source": [
    "import matplotlib.pyplot as plt"
   ]
  },
  {
   "attachments": {},
   "cell_type": "markdown",
   "id": "4f52bd7e",
   "metadata": {},
   "source": [
    "Here is a simple example:"
   ]
  },
  {
   "cell_type": "code",
   "execution_count": 24,
   "id": "695a681e",
   "metadata": {},
   "outputs": [
    {
     "data": {
      "image/png": "[encoded data removed]",
      "text/plain": [
       "<Figure size 1000x500 with 1 Axes>"
      ]
     },
     "metadata": {},
     "output_type": "display_data"
    }
   ],
   "source": [
    "data = np.arange(20)\n",
    "\n",
    "plt.figure(figsize=(10,5)) # create figure and set size of figure\n",
    "plt.plot(data, c='red', linewidth=5) # plot data and set color and thickness\n",
    "plt.title('What an informative figure!') # set title\n",
    "plt.xlabel('x axis') # set x axis label\n",
    "plt.ylabel('y axis') # set y axis label\n",
    "plt.xticks(np.arange(20), np.arange(20)) # change x ticks\n",
    "plt.show() # everything until plt.show() is plotted into the current figure"
   ]
  },
  {
   "attachments": {},
   "cell_type": "markdown",
   "id": "941abb50",
   "metadata": {},
   "source": [
    "### <font color=#D28140><u>Exercise:</u></font> 👩🏻‍💻\n",
    "- create an arbitrary 2D array\n",
    "- create a scatter plot with <code>plt.scatter()</code>\n",
    "- plot the data as green triangles with <code>plt.scatter(..., c='color', marker='markerstyle')</code>\n",
    "- add some axis labels and a title"
   ]
  },
  {
   "cell_type": "code",
   "execution_count": 1,
   "id": "2482a5c1",
   "metadata": {},
   "outputs": [],
   "source": [
    "# create random data\n",
    "\n",
    "\n",
    "# plot\n"
   ]
  },
  {
   "attachments": {},
   "cell_type": "markdown",
   "id": "a8c9fa8a",
   "metadata": {},
   "source": [
    "### <font color=#E6CDAE><i>Further reading</i></font>\n",
    "- some cheat sheets and handouts: https://matplotlib.org/cheatsheets/\n",
    "- again videos by Corey Schafer: https://www.youtube.com/watch?v=UO98lJQ3QGI&list=PL-osiE80TeTvipOqomVEeZ1HRrcEvtZB_\n",
    "- tons of blog posts on medium, just google"
   ]
  },
  {
   "attachments": {},
   "cell_type": "markdown",
   "id": "4bb2cf74",
   "metadata": {},
   "source": [
    "## pandas 🐼"
   ]
  },
  {
   "attachments": {},
   "cell_type": "markdown",
   "id": "6a6cf714",
   "metadata": {},
   "source": [
    "pandas is a useful package for manipulating 2D data sets. The most important feature is column names (which is not possible with numpy arrays). So you can access data with names and not just indices.\n",
    "\n",
    "Import it this way:"
   ]
  },
  {
   "cell_type": "code",
   "execution_count": 26,
   "id": "af8e9c0c",
   "metadata": {},
   "outputs": [],
   "source": [
    "import pandas as pd"
   ]
  },
  {
   "attachments": {},
   "cell_type": "markdown",
   "id": "97702bc9",
   "metadata": {},
   "source": [
    "We can use our <i>data</i> array and turn it into a pandas data frame:"
   ]
  },
  {
   "cell_type": "code",
   "execution_count": 27,
   "id": "b63c351f",
   "metadata": {},
   "outputs": [
    {
     "data": {
      "text/html": [
       "<div>\n",
       "<style scoped>\n",
       "    .dataframe tbody tr th:only-of-type {\n",
       "        vertical-align: middle;\n",
       "    }\n",
       "\n",
       "    .dataframe tbody tr th {\n",
       "        vertical-align: top;\n",
       "    }\n",
       "\n",
       "    .dataframe thead th {\n",
       "        text-align: right;\n",
       "    }\n",
       "</style>\n",
       "<table border=\"1\" class=\"dataframe\">\n",
       "  <thead>\n",
       "    <tr style=\"text-align: right;\">\n",
       "      <th></th>\n",
       "      <th>col1</th>\n",
       "      <th>col2</th>\n",
       "      <th>col3</th>\n",
       "    </tr>\n",
       "  </thead>\n",
       "  <tbody>\n",
       "    <tr>\n",
       "      <th>0</th>\n",
       "      <td>1.0</td>\n",
       "      <td>1.0</td>\n",
       "      <td>1.0</td>\n",
       "    </tr>\n",
       "    <tr>\n",
       "      <th>1</th>\n",
       "      <td>1.0</td>\n",
       "      <td>1.0</td>\n",
       "      <td>1.0</td>\n",
       "    </tr>\n",
       "  </tbody>\n",
       "</table>\n",
       "</div>"
      ],
      "text/plain": [
       "   col1  col2  col3\n",
       "0   1.0   1.0   1.0\n",
       "1   1.0   1.0   1.0"
      ]
     },
     "execution_count": 27,
     "metadata": {},
     "output_type": "execute_result"
    }
   ],
   "source": [
    "df = pd.DataFrame(myArr, columns=['col1', 'col2', 'col3'])\n",
    "df"
   ]
  },
  {
   "attachments": {},
   "cell_type": "markdown",
   "id": "9ea5b182",
   "metadata": {},
   "source": [
    "Now it's possible to use the column names with <code>df['colname']</code> (or <code>df.colname</code>):"
   ]
  },
  {
   "cell_type": "code",
   "execution_count": 28,
   "id": "a4cee142",
   "metadata": {},
   "outputs": [
    {
     "data": {
      "text/plain": [
       "0    1.0\n",
       "1    1.0\n",
       "Name: col1, dtype: float64"
      ]
     },
     "execution_count": 28,
     "metadata": {},
     "output_type": "execute_result"
    }
   ],
   "source": [
    "df['col1']"
   ]
  },
  {
   "attachments": {},
   "cell_type": "markdown",
   "id": "0c480b5c",
   "metadata": {},
   "source": [
    "You can add a new column very easy with <code>df['newcolname'] = data</code>:"
   ]
  },
  {
   "cell_type": "code",
   "execution_count": 29,
   "id": "2574baf6",
   "metadata": {},
   "outputs": [
    {
     "data": {
      "text/html": [
       "<div>\n",
       "<style scoped>\n",
       "    .dataframe tbody tr th:only-of-type {\n",
       "        vertical-align: middle;\n",
       "    }\n",
       "\n",
       "    .dataframe tbody tr th {\n",
       "        vertical-align: top;\n",
       "    }\n",
       "\n",
       "    .dataframe thead th {\n",
       "        text-align: right;\n",
       "    }\n",
       "</style>\n",
       "<table border=\"1\" class=\"dataframe\">\n",
       "  <thead>\n",
       "    <tr style=\"text-align: right;\">\n",
       "      <th></th>\n",
       "      <th>col1</th>\n",
       "      <th>col2</th>\n",
       "      <th>col3</th>\n",
       "      <th>col4</th>\n",
       "    </tr>\n",
       "  </thead>\n",
       "  <tbody>\n",
       "    <tr>\n",
       "      <th>0</th>\n",
       "      <td>1.0</td>\n",
       "      <td>1.0</td>\n",
       "      <td>1.0</td>\n",
       "      <td>10</td>\n",
       "    </tr>\n",
       "    <tr>\n",
       "      <th>1</th>\n",
       "      <td>1.0</td>\n",
       "      <td>1.0</td>\n",
       "      <td>1.0</td>\n",
       "      <td>11</td>\n",
       "    </tr>\n",
       "  </tbody>\n",
       "</table>\n",
       "</div>"
      ],
      "text/plain": [
       "   col1  col2  col3  col4\n",
       "0   1.0   1.0   1.0    10\n",
       "1   1.0   1.0   1.0    11"
      ]
     },
     "execution_count": 29,
     "metadata": {},
     "output_type": "execute_result"
    }
   ],
   "source": [
    "df['col4'] = np.array([10,11])\n",
    "df"
   ]
  },
  {
   "attachments": {},
   "cell_type": "markdown",
   "id": "e4b09c70",
   "metadata": {},
   "source": [
    "You can convert your pandas df back to a numpy array with <code>df.to_numpy()</code>:"
   ]
  },
  {
   "cell_type": "code",
   "execution_count": 30,
   "id": "ee64ca17",
   "metadata": {},
   "outputs": [
    {
     "data": {
      "text/plain": [
       "array([[ 1.,  1.,  1., 10.],\n",
       "       [ 1.,  1.,  1., 11.]])"
      ]
     },
     "execution_count": 30,
     "metadata": {},
     "output_type": "execute_result"
    }
   ],
   "source": [
    "df.to_numpy()"
   ]
  },
  {
   "attachments": {},
   "cell_type": "markdown",
   "id": "8cdb7b7d",
   "metadata": {},
   "source": [
    "pandas delivers some basic statistics, like mean or std. For a quick overview you can use <code>df.describe()</code>:"
   ]
  },
  {
   "cell_type": "code",
   "execution_count": 31,
   "id": "49a72a31",
   "metadata": {},
   "outputs": [
    {
     "data": {
      "text/html": [
       "<div>\n",
       "<style scoped>\n",
       "    .dataframe tbody tr th:only-of-type {\n",
       "        vertical-align: middle;\n",
       "    }\n",
       "\n",
       "    .dataframe tbody tr th {\n",
       "        vertical-align: top;\n",
       "    }\n",
       "\n",
       "    .dataframe thead th {\n",
       "        text-align: right;\n",
       "    }\n",
       "</style>\n",
       "<table border=\"1\" class=\"dataframe\">\n",
       "  <thead>\n",
       "    <tr style=\"text-align: right;\">\n",
       "      <th></th>\n",
       "      <th>col1</th>\n",
       "      <th>col2</th>\n",
       "      <th>col3</th>\n",
       "      <th>col4</th>\n",
       "    </tr>\n",
       "  </thead>\n",
       "  <tbody>\n",
       "    <tr>\n",
       "      <th>count</th>\n",
       "      <td>2.0</td>\n",
       "      <td>2.0</td>\n",
       "      <td>2.0</td>\n",
       "      <td>2.000000</td>\n",
       "    </tr>\n",
       "    <tr>\n",
       "      <th>mean</th>\n",
       "      <td>1.0</td>\n",
       "      <td>1.0</td>\n",
       "      <td>1.0</td>\n",
       "      <td>10.500000</td>\n",
       "    </tr>\n",
       "    <tr>\n",
       "      <th>std</th>\n",
       "      <td>0.0</td>\n",
       "      <td>0.0</td>\n",
       "      <td>0.0</td>\n",
       "      <td>0.707107</td>\n",
       "    </tr>\n",
       "    <tr>\n",
       "      <th>min</th>\n",
       "      <td>1.0</td>\n",
       "      <td>1.0</td>\n",
       "      <td>1.0</td>\n",
       "      <td>10.000000</td>\n",
       "    </tr>\n",
       "    <tr>\n",
       "      <th>25%</th>\n",
       "      <td>1.0</td>\n",
       "      <td>1.0</td>\n",
       "      <td>1.0</td>\n",
       "      <td>10.250000</td>\n",
       "    </tr>\n",
       "    <tr>\n",
       "      <th>50%</th>\n",
       "      <td>1.0</td>\n",
       "      <td>1.0</td>\n",
       "      <td>1.0</td>\n",
       "      <td>10.500000</td>\n",
       "    </tr>\n",
       "    <tr>\n",
       "      <th>75%</th>\n",
       "      <td>1.0</td>\n",
       "      <td>1.0</td>\n",
       "      <td>1.0</td>\n",
       "      <td>10.750000</td>\n",
       "    </tr>\n",
       "    <tr>\n",
       "      <th>max</th>\n",
       "      <td>1.0</td>\n",
       "      <td>1.0</td>\n",
       "      <td>1.0</td>\n",
       "      <td>11.000000</td>\n",
       "    </tr>\n",
       "  </tbody>\n",
       "</table>\n",
       "</div>"
      ],
      "text/plain": [
       "       col1  col2  col3       col4\n",
       "count   2.0   2.0   2.0   2.000000\n",
       "mean    1.0   1.0   1.0  10.500000\n",
       "std     0.0   0.0   0.0   0.707107\n",
       "min     1.0   1.0   1.0  10.000000\n",
       "25%     1.0   1.0   1.0  10.250000\n",
       "50%     1.0   1.0   1.0  10.500000\n",
       "75%     1.0   1.0   1.0  10.750000\n",
       "max     1.0   1.0   1.0  11.000000"
      ]
     },
     "execution_count": 31,
     "metadata": {},
     "output_type": "execute_result"
    }
   ],
   "source": [
    "df.describe()"
   ]
  },
  {
   "attachments": {},
   "cell_type": "markdown",
   "id": "88535f13",
   "metadata": {},
   "source": [
    "### <font color=#D28140><u>Exercise:</u></font> 👩🏻‍💻\n",
    "- rename column 1 with <code>df.rename()</code>\n",
    "- return the second row, and column 4 of second row with <code>df.iloc[]</code>\n",
    "- change the value of column 2 row 1 to 0\n",
    "- change data type of column 2 to boolean with <code>df['colname'].astype(type)</code>"
   ]
  },
  {
   "cell_type": "code",
   "execution_count": null,
   "id": "abcbc50d",
   "metadata": {},
   "outputs": [],
   "source": []
  },
  {
   "attachments": {},
   "cell_type": "markdown",
   "id": "8989b625",
   "metadata": {},
   "source": [
    "### <font color=#E6CDAE><i>Further reading</i></font>\n",
    "- pandas cheat sheet: https://pandas.pydata.org/Pandas_Cheat_Sheet.pdf\n",
    "- pandas guide: https://pandas.pydata.org/docs/user_guide/10min.html\n",
    "- that includes a guide for importing and exporting different data type: https://pandas.pydata.org/docs/user_guide/io.html\n",
    "- and of course again Corey Schafer: https://www.youtube.com/watch?v=ZyhVh-qRZPA&list=PL-osiE80TeTsWmV9i9c58mdDCSskIFdDS"
   ]
  },
  {
   "attachments": {},
   "cell_type": "markdown",
   "id": "776a417d",
   "metadata": {},
   "source": [
    "## Watermark\n",
    "Watermark prints the used packages and their versions. This makes it easier for others and you after updates to reproduce the results of the script."
   ]
  },
  {
   "cell_type": "code",
   "execution_count": 39,
   "id": "caf43379",
   "metadata": {},
   "outputs": [
    {
     "name": "stdout",
     "output_type": "stream",
     "text": [
      "The watermark extension is already loaded. To reload it, use:\n",
      "  %reload_ext watermark\n",
      "Last updated: Tue May 27 2025\n",
      "\n",
      "Python implementation: CPython\n",
      "Python version       : 3.11.11\n",
      "IPython version      : 9.0.2\n",
      "\n",
      "scipy     : 1.11.3\n",
      "matplotlib: 3.8.0\n",
      "numpy     : 1.25.2\n",
      "pandas    : 2.1.1\n",
      "\n",
      "Watermark: 2.4.3\n",
      "\n"
     ]
    }
   ],
   "source": [
    "%load_ext watermark\n",
    "%watermark -n -u -v -iv -w"
   ]
  }
 ],
 "metadata": {
  "kernelspec": {
   "display_name": "pymc_env",
   "language": "python",
   "name": "python3"
  },
  "language_info": {
   "codemirror_mode": {
    "name": "ipython",
    "version": 3
   },
   "file_extension": ".py",
   "mimetype": "text/x-python",
   "name": "python",
   "nbconvert_exporter": "python",
   "pygments_lexer": "ipython3",
   "version": "3.11.11"
  },
  "vscode": {
   "interpreter": {
    "hash": "5be7568c6fc970391409e2779f0f73140dfc22c0bb6001b7dba76c018f68083f"
   }
  }
 },
 "nbformat": 4,
 "nbformat_minor": 5
}
